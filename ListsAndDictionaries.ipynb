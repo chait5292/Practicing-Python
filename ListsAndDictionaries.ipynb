{
 "cells": [
  {
   "cell_type": "markdown",
   "metadata": {},
   "source": [
    "## Lists"
   ]
  },
  {
   "cell_type": "code",
   "execution_count": 18,
   "metadata": {},
   "outputs": [],
   "source": [
    "myList1=[1,2,3]\n",
    "myList2=[4,myList1,\"Text1\",\"Text2\"]"
   ]
  },
  {
   "cell_type": "code",
   "execution_count": 2,
   "metadata": {},
   "outputs": [
    {
     "name": "stdout",
     "output_type": "stream",
     "text": [
      "[4, [1, 2, 3], 'Text1', 'Text2']\n"
     ]
    }
   ],
   "source": [
    "print(myList2)"
   ]
  },
  {
   "cell_type": "markdown",
   "metadata": {},
   "source": [
    "### Accessing List Values"
   ]
  },
  {
   "cell_type": "code",
   "execution_count": 4,
   "metadata": {},
   "outputs": [
    {
     "name": "stdout",
     "output_type": "stream",
     "text": [
      "[1, 2, 3]\n",
      "['Text1', 'Text2']\n"
     ]
    }
   ],
   "source": [
    "print(myList2[1])\n",
    "print(myList2[2:4])"
   ]
  },
  {
   "cell_type": "markdown",
   "metadata": {},
   "source": [
    "Basic List Operations"
   ]
  },
  {
   "cell_type": "code",
   "execution_count": 5,
   "metadata": {},
   "outputs": [
    {
     "data": {
      "text/plain": [
       "4"
      ]
     },
     "execution_count": 5,
     "metadata": {},
     "output_type": "execute_result"
    }
   ],
   "source": [
    "#Length\n",
    "len(myList2)"
   ]
  },
  {
   "cell_type": "code",
   "execution_count": 6,
   "metadata": {},
   "outputs": [
    {
     "data": {
      "text/plain": [
       "[1, 2, 3, 4, [1, 2, 3], 'Text1', 'Text2']"
      ]
     },
     "execution_count": 6,
     "metadata": {},
     "output_type": "execute_result"
    }
   ],
   "source": [
    "#Concatenation\n",
    "myList1+myList2"
   ]
  },
  {
   "cell_type": "code",
   "execution_count": 7,
   "metadata": {},
   "outputs": [
    {
     "data": {
      "text/plain": [
       "[1, 2, 3, 1, 2, 3, 1, 2, 3]"
      ]
     },
     "execution_count": 7,
     "metadata": {},
     "output_type": "execute_result"
    }
   ],
   "source": [
    "#Repetition\n",
    "myList1*3"
   ]
  },
  {
   "cell_type": "code",
   "execution_count": 8,
   "metadata": {},
   "outputs": [
    {
     "data": {
      "text/plain": [
       "True"
      ]
     },
     "execution_count": 8,
     "metadata": {},
     "output_type": "execute_result"
    }
   ],
   "source": [
    "#Membership\n",
    "3 in myList1"
   ]
  },
  {
   "cell_type": "code",
   "execution_count": 10,
   "metadata": {},
   "outputs": [
    {
     "name": "stdout",
     "output_type": "stream",
     "text": [
      "[1, 2, 3, 1, 2, 3, 1, 2, 3]\n",
      "[1, 2, 3, 1, 2, 3, 1, 2, 3]\n",
      "[1, 2, 3, 1, 2, 3, 1, 2, 3]\n"
     ]
    }
   ],
   "source": [
    "for i in myList1:\n",
    "    print(myList1*3)"
   ]
  },
  {
   "cell_type": "code",
   "execution_count": 11,
   "metadata": {},
   "outputs": [
    {
     "name": "stdout",
     "output_type": "stream",
     "text": [
      "[3, 6, 9]\n"
     ]
    }
   ],
   "source": [
    "test=[]\n",
    "for i in myList1:\n",
    "    test.append(i*3)\n",
    "print(test)"
   ]
  },
  {
   "cell_type": "code",
   "execution_count": null,
   "metadata": {},
   "outputs": [],
   "source": [
    "#Iteration over a list\n",
    "print \"myList2=\",myList2\n",
    "for myElement in myList2:\n",
    "    print \"myElement*2=\",myElement*2"
   ]
  },
  {
   "cell_type": "markdown",
   "metadata": {},
   "source": [
    "### List Methods"
   ]
  },
  {
   "cell_type": "code",
   "execution_count": 12,
   "metadata": {},
   "outputs": [
    {
     "name": "stdout",
     "output_type": "stream",
     "text": [
      "[1, 2, 3, 'a']\n"
     ]
    }
   ],
   "source": [
    "#Append to list\n",
    "myList1.append(\"a\")\n",
    "print(myList1)"
   ]
  },
  {
   "cell_type": "code",
   "execution_count": 21,
   "metadata": {},
   "outputs": [
    {
     "name": "stdout",
     "output_type": "stream",
     "text": [
      "[1, 2, 3, 4, 4, 5, 6, 7]\n"
     ]
    }
   ],
   "source": [
    "#Extend list\n",
    "myList1.extend([4,5,6,7])\n",
    "print(myList1)"
   ]
  },
  {
   "cell_type": "code",
   "execution_count": 15,
   "metadata": {},
   "outputs": [
    {
     "name": "stdout",
     "output_type": "stream",
     "text": [
      "3\n"
     ]
    }
   ],
   "source": [
    "#Index of object in list (first occurance)\n",
    "print(myList1.index(\"a\"))"
   ]
  },
  {
   "cell_type": "code",
   "execution_count": 22,
   "metadata": {},
   "outputs": [
    {
     "name": "stdout",
     "output_type": "stream",
     "text": [
      "2\n"
     ]
    }
   ],
   "source": [
    "#Count number of specific objects\n",
    "print(myList1.count(4))"
   ]
  },
  {
   "cell_type": "code",
   "execution_count": 16,
   "metadata": {},
   "outputs": [
    {
     "name": "stdout",
     "output_type": "stream",
     "text": [
      "[1, 2, 3, 'a', 4, 1, 5, 6, 7]\n"
     ]
    }
   ],
   "source": [
    "#Insert an object into a specific index in list\n",
    "myList1.insert(5,1)\n",
    "print(myList1)"
   ]
  },
  {
   "cell_type": "code",
   "execution_count": 17,
   "metadata": {},
   "outputs": [
    {
     "name": "stdout",
     "output_type": "stream",
     "text": [
      "2\n",
      "[1, 3, 'a', 4, 1, 5, 6, 7]\n"
     ]
    }
   ],
   "source": [
    "#Remove an object from a specific index in list\n",
    "print(myList1.pop(1))\n",
    "print(myList1)"
   ]
  },
  {
   "cell_type": "code",
   "execution_count": 26,
   "metadata": {},
   "outputs": [
    {
     "name": "stdout",
     "output_type": "stream",
     "text": [
      "[1, 2, 3, 4, 4, 5, 6, 7, 8, 5, 6, 7, 8, 'a']\n"
     ]
    }
   ],
   "source": [
    "myList1.extend([5,6,7,8,'a'])\n",
    "print(myList1)"
   ]
  },
  {
   "cell_type": "code",
   "execution_count": 27,
   "metadata": {},
   "outputs": [
    {
     "name": "stdout",
     "output_type": "stream",
     "text": [
      "['a', 8, 7, 6, 5, 8, 7, 6, 5, 4, 4, 3, 2, 1]\n"
     ]
    }
   ],
   "source": [
    "#Reverse a list\n",
    "myList1.reverse()\n",
    "print(myList1)"
   ]
  },
  {
   "cell_type": "code",
   "execution_count": 30,
   "metadata": {},
   "outputs": [
    {
     "name": "stdout",
     "output_type": "stream",
     "text": [
      "[1, 2, 3, 4, 4, 5, 5, 6, 6, 7, 7, 8, 8]\n"
     ]
    }
   ],
   "source": [
    "myList1.pop(0)\n",
    "myList1.sort()\n",
    "print(myList1)"
   ]
  },
  {
   "cell_type": "markdown",
   "metadata": {},
   "source": [
    "## Strings (Lists of characters)"
   ]
  },
  {
   "cell_type": "code",
   "execution_count": 31,
   "metadata": {},
   "outputs": [],
   "source": [
    "myString1=\"hello world!\"\n",
    "myString2=\"Programming in Python!\""
   ]
  },
  {
   "cell_type": "code",
   "execution_count": 32,
   "metadata": {},
   "outputs": [
    {
     "name": "stdout",
     "output_type": "stream",
     "text": [
      "hello world!\n"
     ]
    }
   ],
   "source": [
    "print(myString1)"
   ]
  },
  {
   "cell_type": "code",
   "execution_count": 33,
   "metadata": {},
   "outputs": [
    {
     "name": "stdout",
     "output_type": "stream",
     "text": [
      " \n",
      "gr\n"
     ]
    }
   ],
   "source": [
    "print(myString1[5])\n",
    "print(myString2[3:5])"
   ]
  },
  {
   "cell_type": "code",
   "execution_count": 19,
   "metadata": {},
   "outputs": [
    {
     "name": "stdout",
     "output_type": "stream",
     "text": [
      "hello Programming!\n"
     ]
    }
   ],
   "source": [
    "print(myString1[0:5]+\" \"+myString2[0:11]+\"!\")"
   ]
  },
  {
   "cell_type": "code",
   "execution_count": null,
   "metadata": {},
   "outputs": [],
   "source": [
    "print myString1[0:6]*3"
   ]
  },
  {
   "cell_type": "code",
   "execution_count": null,
   "metadata": {},
   "outputs": [],
   "source": [
    "print myString1.capitalize()\n",
    "print myString2.lower()\n",
    "print myString1.upper()"
   ]
  },
  {
   "cell_type": "code",
   "execution_count": null,
   "metadata": {},
   "outputs": [],
   "source": [
    "print myString1.count(\"l\")"
   ]
  },
  {
   "cell_type": "markdown",
   "metadata": {},
   "source": [
    "## Tuples (Immutable Lists)"
   ]
  },
  {
   "cell_type": "code",
   "execution_count": null,
   "metadata": {
    "collapsed": true
   },
   "outputs": [],
   "source": [
    "myTuple1=(1,2,3)\n",
    "myTuple2=(4,myTuple1,\"Text1\",\"Text2\")"
   ]
  },
  {
   "cell_type": "code",
   "execution_count": null,
   "metadata": {},
   "outputs": [],
   "source": [
    "myTuple1=(2,3)"
   ]
  },
  {
   "cell_type": "code",
   "execution_count": null,
   "metadata": {},
   "outputs": [],
   "source": [
    "myTuple1"
   ]
  },
  {
   "cell_type": "code",
   "execution_count": null,
   "metadata": {},
   "outputs": [],
   "source": [
    "print myTuple1[1]\n",
    "print myTuple2[1:3]"
   ]
  },
  {
   "cell_type": "code",
   "execution_count": null,
   "metadata": {},
   "outputs": [],
   "source": [
    "myTuple1[0]='a' #Note you will get an error executing this cell because you cannot modify a tuple"
   ]
  },
  {
   "cell_type": "code",
   "execution_count": null,
   "metadata": {},
   "outputs": [],
   "source": [
    "myTuple1+myTuple2"
   ]
  },
  {
   "cell_type": "markdown",
   "metadata": {},
   "source": [
    "## What does it mean to be im/mutable and why should you care?"
   ]
  },
  {
   "cell_type": "code",
   "execution_count": null,
   "metadata": {},
   "outputs": [],
   "source": [
    "myList3=myList1\n",
    "print \"myList1=\",myList1\n",
    "print \"myList2=\",myList3"
   ]
  },
  {
   "cell_type": "code",
   "execution_count": null,
   "metadata": {},
   "outputs": [],
   "source": [
    "myList3[0]=\"XYZ\"\n",
    "print myList3"
   ]
  },
  {
   "cell_type": "code",
   "execution_count": null,
   "metadata": {},
   "outputs": [],
   "source": [
    "print myList1"
   ]
  },
  {
   "cell_type": "code",
   "execution_count": null,
   "metadata": {},
   "outputs": [],
   "source": [
    "myTuple3=myTuple1\n",
    "print \"myTuple1=\",myTuple1\n",
    "print \"myTuple3=\",myTuple3"
   ]
  },
  {
   "cell_type": "code",
   "execution_count": null,
   "metadata": {},
   "outputs": [],
   "source": [
    "myTuple3[0]=\"ZYX\" "
   ]
  },
  {
   "cell_type": "markdown",
   "metadata": {},
   "source": [
    "## Sets (unordered lists with no duplicate entries)"
   ]
  },
  {
   "cell_type": "code",
   "execution_count": 20,
   "metadata": {},
   "outputs": [],
   "source": [
    "mySet1=set([1,2,3])\n",
    "mySet2=set([2,\"Text1\",\"Text2\"])"
   ]
  },
  {
   "cell_type": "code",
   "execution_count": 22,
   "metadata": {},
   "outputs": [
    {
     "name": "stdout",
     "output_type": "stream",
     "text": [
      "{1, 2, 3}\n",
      "{'Text2', 2, 'Text1'}\n"
     ]
    }
   ],
   "source": [
    "print(mySet1)\n",
    "print(mySet2)"
   ]
  },
  {
   "cell_type": "code",
   "execution_count": 23,
   "metadata": {},
   "outputs": [
    {
     "ename": "SyntaxError",
     "evalue": "Missing parentheses in call to 'print'. Did you mean print(mySet1-mySet2)? (<ipython-input-23-f09df6cf6288>, line 1)",
     "output_type": "error",
     "traceback": [
      "\u001b[0;36m  File \u001b[0;32m\"<ipython-input-23-f09df6cf6288>\"\u001b[0;36m, line \u001b[0;32m1\u001b[0m\n\u001b[0;31m    print mySet1-mySet2\u001b[0m\n\u001b[0m               ^\u001b[0m\n\u001b[0;31mSyntaxError\u001b[0m\u001b[0;31m:\u001b[0m Missing parentheses in call to 'print'. Did you mean print(mySet1-mySet2)?\n"
     ]
    }
   ],
   "source": [
    "print mySet1-mySet2\n",
    "print mySet1&mySet2\n",
    "print mySet1|mySet2"
   ]
  },
  {
   "cell_type": "markdown",
   "metadata": {},
   "source": [
    "# Dictionaries"
   ]
  },
  {
   "cell_type": "code",
   "execution_count": 25,
   "metadata": {},
   "outputs": [
    {
     "name": "stdout",
     "output_type": "stream",
     "text": [
      "[5.0, 5.25, 4.75, 3.5]\n",
      "Expected Profit is 5.25 and order quantity is 6\n"
     ]
    }
   ],
   "source": [
    "def highestprofit(demand,price,cost):\n",
    "    demand.sort()\n",
    "    i=0\n",
    "    ExpectedProfit=[]\n",
    "    while(i<=len(demand)-1):\n",
    "        j=0\n",
    "        TotalProfit=0\n",
    "        while(j<=len(demand)-1):\n",
    "            if demand[i]<=demand[j]:\n",
    "                    TotalProfit+=float(demand[i])*(price-cost)\n",
    "            else:\n",
    "                    TotalProfit+=float(demand[j])*(price-cost)-float(cost)*(demand[i]-demand[j])\n",
    "            j+=1\n",
    "        ExpectedProfit.append(float(TotalProfit)/len(demand))   \n",
    "        i+=1\n",
    "    (a,b)=finalmaximum(ExpectedProfit)\n",
    "    print ExpectedProfit\n",
    "    print \"Expected Profit is\",a,\"and order quantity is\",demand[0+b]\n",
    "\n",
    "def finalmaximum(a):\n",
    "    i=0\n",
    "    index=0\n",
    "    j=a[0]\n",
    "    while(i<len(a)):\n",
    "        if(a[i]>j):\n",
    "            j=a[i]\n",
    "            index=i\n",
    "        i+=1\n",
    "    return j,index\n",
    "\n",
    "highestprofit([5,6,7,8],3,2)\n",
    "    \n",
    "    \n",
    "    \n",
    "            "
   ]
  },
  {
   "cell_type": "code",
   "execution_count": 24,
   "metadata": {},
   "outputs": [
    {
     "ename": "NameError",
     "evalue": "name 'myDictionary1' is not defined",
     "output_type": "error",
     "traceback": [
      "\u001b[1;31m\u001b[0m",
      "\u001b[1;31mNameError\u001b[0mTraceback (most recent call last)",
      "\u001b[1;32m<ipython-input-24-d75cd40e59e3>\u001b[0m in \u001b[0;36m<module>\u001b[1;34m()\u001b[0m\n\u001b[1;32m----> 1\u001b[1;33m \u001b[1;32mprint\u001b[0m \u001b[0mmyDictionary1\u001b[0m\u001b[1;33m\u001b[0m\u001b[0m\n\u001b[0m\u001b[0;32m      2\u001b[0m \u001b[1;32mprint\u001b[0m \u001b[0mmyDictionary2\u001b[0m\u001b[1;33m\u001b[0m\u001b[0m\n",
      "\u001b[1;31mNameError\u001b[0m: name 'myDictionary1' is not defined"
     ]
    }
   ],
   "source": [
    "print myDictionary1\n",
    "print myDictionary2"
   ]
  },
  {
   "cell_type": "markdown",
   "metadata": {},
   "source": [
    "## Accessing Values"
   ]
  },
  {
   "cell_type": "code",
   "execution_count": null,
   "metadata": {},
   "outputs": [],
   "source": [
    "print myDictionary1[0]\n",
    "print myDictionary2[\"b\"]\n",
    "myDictionary1['xyz']=\"Hello Dictionary!\"\n",
    "print myDictionary1"
   ]
  },
  {
   "cell_type": "code",
   "execution_count": 1,
   "metadata": {},
   "outputs": [],
   "source": [
    "myDictionary1 = {\"iphone\" : 2007,\n",
    "\"iphone 3G\" : 2008,\n",
    "\"iphone 3GS\" : 2009,\n",
    "\"iphone 4\" : 2010,\n",
    "\"iphone 4S\" : 2011,\n",
    "\"iphone 5\" : 2012\n",
    "}"
   ]
  },
  {
   "cell_type": "markdown",
   "metadata": {},
   "source": [
    "## Methods"
   ]
  },
  {
   "cell_type": "code",
   "execution_count": 2,
   "metadata": {},
   "outputs": [
    {
     "data": {
      "text/plain": [
       "dict_keys(['iphone', 'iphone 3G', 'iphone 3GS', 'iphone 4', 'iphone 4S', 'iphone 5'])"
      ]
     },
     "execution_count": 2,
     "metadata": {},
     "output_type": "execute_result"
    }
   ],
   "source": [
    "#List of keys\n",
    "myDictionary1.keys()"
   ]
  },
  {
   "cell_type": "code",
   "execution_count": 4,
   "metadata": {},
   "outputs": [
    {
     "data": {
      "text/plain": [
       "dict_values([2007, 2008, 2009, 2010, 2011, 2012])"
      ]
     },
     "execution_count": 4,
     "metadata": {},
     "output_type": "execute_result"
    }
   ],
   "source": [
    "#List of values\n",
    "myDictionary1.values()"
   ]
  },
  {
   "cell_type": "code",
   "execution_count": 5,
   "metadata": {},
   "outputs": [
    {
     "data": {
      "text/plain": [
       "dict_items([('iphone', 2007), ('iphone 3G', 2008), ('iphone 3GS', 2009), ('iphone 4', 2010), ('iphone 4S', 2011), ('iphone 5', 2012)])"
      ]
     },
     "execution_count": 5,
     "metadata": {},
     "output_type": "execute_result"
    }
   ],
   "source": [
    "#List of (key,value) tuples\n",
    "myDictionary1.items()"
   ]
  },
  {
   "cell_type": "markdown",
   "metadata": {},
   "source": [
    "## Working with Lists and Dictionaries"
   ]
  },
  {
   "cell_type": "markdown",
   "metadata": {},
   "source": [
    "### Step-by-Step: Loops"
   ]
  },
  {
   "cell_type": "code",
   "execution_count": 1,
   "metadata": {
    "collapsed": true
   },
   "outputs": [],
   "source": [
    "paidInfo={\"Alice\":10.5,\"Bob\":7.8,\"Chris\":15.0}"
   ]
  },
  {
   "cell_type": "code",
   "execution_count": 2,
   "metadata": {
    "collapsed": true
   },
   "outputs": [],
   "source": [
    "def myTax(p): #Define a function that calculates Indiana tax amount on sale of an intem at price p\n",
    "    taxes = p*0.07 #Indiana state sales tax rate is 7%\n",
    "    return taxes"
   ]
  },
  {
   "cell_type": "code",
   "execution_count": 3,
   "metadata": {
    "collapsed": true
   },
   "outputs": [],
   "source": [
    "def kyTax(p): #Define a function that calculates Kentucky tax amount on sale of an intem at price p\n",
    "    taxes = p*0.06 #Kentuky state sales tax rate is 6%\n",
    "    return taxes"
   ]
  },
  {
   "cell_type": "code",
   "execution_count": 7,
   "metadata": {},
   "outputs": [
    {
     "name": "stdout",
     "output_type": "stream",
     "text": [
      "price= 15.0 tax paid in indiana= 1.05 tax paid in kentucky= 0.9\n",
      "price= 7.8 tax paid in indiana= 0.546 tax paid in kentucky= 0.468\n",
      "price= 10.5 tax paid in indiana= 0.735 tax paid in kentucky= 0.63\n"
     ]
    }
   ],
   "source": [
    "for p in paidInfo.values():\n",
    "    print \"price=\",p, # , at the end means that next print statement will continue in the same line\n",
    "    print \"tax paid in indiana=\",myTax(p),\n",
    "    print \"tax paid in kentucky=\",kyTax(p) # no , at the end means that next print statement will start on a new line"
   ]
  },
  {
   "cell_type": "code",
   "execution_count": null,
   "metadata": {},
   "outputs": [],
   "source": [
    "for k in paidInfo:\n",
    "    print \"key=\",k\n",
    "    print \"value=\",paidInfo[k]\n",
    "    print \"tax paid=\",myTax(paidInfo[k])"
   ]
  },
  {
   "cell_type": "code",
   "execution_count": null,
   "metadata": {},
   "outputs": [],
   "source": [
    "myTaxList1=[]\n",
    "for k in paidInfo:\n",
    "    myTaxList1.append(myTax(paidInfo[k]))\n",
    "print myTaxList1"
   ]
  },
  {
   "cell_type": "markdown",
   "metadata": {},
   "source": [
    "### List Comprehension"
   ]
  },
  {
   "cell_type": "code",
   "execution_count": null,
   "metadata": {},
   "outputs": [],
   "source": [
    "myTaxList2=[myTax(x) for x in paidInfo.values()]\n",
    "print myTaxList2"
   ]
  },
  {
   "cell_type": "code",
   "execution_count": null,
   "metadata": {},
   "outputs": [],
   "source": [
    "myNamesList=[n.capitalize() for n in paidInfo.keys()]\n",
    "print myNamesList"
   ]
  },
  {
   "cell_type": "code",
   "execution_count": null,
   "metadata": {},
   "outputs": [],
   "source": [
    "myNewPaidInfo={n.upper():myTax(paidInfo[n]) for n in paidInfo.keys()}\n",
    "print myNewPaidInfo"
   ]
  },
  {
   "cell_type": "markdown",
   "metadata": {},
   "source": [
    "# Useful Functions"
   ]
  },
  {
   "cell_type": "code",
   "execution_count": null,
   "metadata": {},
   "outputs": [],
   "source": [
    "#Enumerate -- returns an enumerated sequence (index,value)\n",
    "print myTaxList1\n",
    "for index, val in enumerate(myTaxList1):\n",
    "    print \"index=\",index\n",
    "    print \"val=\",val"
   ]
  },
  {
   "cell_type": "code",
   "execution_count": null,
   "metadata": {},
   "outputs": [],
   "source": [
    "print list(enumerate(myTaxList1))"
   ]
  },
  {
   "cell_type": "code",
   "execution_count": null,
   "metadata": {},
   "outputs": [],
   "source": [
    "#Zip -- returns a list of tupels where the i-th tuple contains the i-th element\n",
    "#from each of the arguement sequences\n",
    "pairedInfo = zip(paidInfo.values(),myTaxList1)\n",
    "print pairedInfo"
   ]
  },
  {
   "cell_type": "code",
   "execution_count": null,
   "metadata": {},
   "outputs": [],
   "source": [
    "#zip() in conjuction with * can be used to unzip a list\n",
    "x1, y1 = zip(*pairedInfo)\n",
    "print \"x1=\",x1,\"y1=\",y1"
   ]
  },
  {
   "cell_type": "code",
   "execution_count": null,
   "metadata": {},
   "outputs": [],
   "source": [
    "#filter() -- construct a list from those element of iterable for which function\n",
    "#returns true.\n",
    "print paidInfo.values()\n",
    "print paidInfo.keys()\n",
    "\n",
    "def myCheckFun(val):\n",
    "    return val[0]==\"A\"\n",
    "\n",
    "myOutput2=filter(myCheckFun,paidInfo.keys())\n",
    "print myOutput2"
   ]
  },
  {
   "cell_type": "code",
   "execution_count": null,
   "metadata": {},
   "outputs": [],
   "source": [
    "#map() -- apply a function to every item of iterable and retun a list of the result\n",
    "myOutput3=map(myTax,paidInfo.values())\n",
    "print myOutput3"
   ]
  },
  {
   "cell_type": "code",
   "execution_count": null,
   "metadata": {},
   "outputs": [],
   "source": [
    "#reduce() -- apply a function to two arguments cumulatively to the items of \n",
    "#iterable from left to right\n",
    "\n",
    "def mySumFun(val1,val2):\n",
    "    return val1+val2\n",
    "\n",
    "reduce(mySumFun,paidInfo.values())"
   ]
  },
  {
   "cell_type": "code",
   "execution_count": null,
   "metadata": {},
   "outputs": [],
   "source": []
  },
  {
   "cell_type": "code",
   "execution_count": null,
   "metadata": {
    "collapsed": true
   },
   "outputs": [],
   "source": []
  }
 ],
 "metadata": {
  "anaconda-cloud": {},
  "kernelspec": {
   "display_name": "Python 3",
   "language": "python",
   "name": "python3"
  },
  "language_info": {
   "codemirror_mode": {
    "name": "ipython",
    "version": 3
   },
   "file_extension": ".py",
   "mimetype": "text/x-python",
   "name": "python",
   "nbconvert_exporter": "python",
   "pygments_lexer": "ipython3",
   "version": "3.6.8"
  }
 },
 "nbformat": 4,
 "nbformat_minor": 1
}
